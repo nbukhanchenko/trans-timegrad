{
 "cells": [
  {
   "cell_type": "code",
   "execution_count": null,
   "metadata": {},
   "outputs": [],
   "source": [
    "# !pip install \"git+https://github.com/nbukhanchenko/trans-timegrad\"\n",
    "# !pip install --upgrade --force-reinstall gluonts==0.14.3\n",
    "# !pip install --upgrade --force-reinstall seaborn==0.13.1\n",
    "# !pip install --upgrade --force-reinstall pandas==2.2.0\n",
    "# !pip install --upgrade --force-reinstall numpy==1.23.5\n",
    "# !pip install --upgrade --force-reinstall lightning==2.1.3\n",
    "# !pip install --upgrade --force-reinstall diffusers==0.25.1"
   ]
  }
 ],
 "metadata": {
  "language_info": {
   "name": "python"
  }
 },
 "nbformat": 4,
 "nbformat_minor": 2
}
